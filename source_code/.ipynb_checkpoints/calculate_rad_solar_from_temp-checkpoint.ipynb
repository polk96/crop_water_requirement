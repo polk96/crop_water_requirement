{
 "cells": [
  {
   "cell_type": "code",
   "execution_count": null,
   "metadata": {},
   "outputs": [],
   "source": [
    "# import pyeto library\n",
    "import pyeto\n",
    "\n",
    "# import datetime\n",
    "import datetime\n",
    "\n",
    "def calculate_rad_solar_from_temp(year, month, day, latitude, longitude, altitude, coastal=False, temp_min, temp_max):\n",
    "    '''\n",
    "        calculate_rad_solar_from_temp(  year,\n",
    "                                        month,\n",
    "                                        day,\n",
    "                                        latitude,\n",
    "                                        longitude,\n",
    "                                        altitude,\n",
    "                                        coastal=False,\n",
    "                                        temp_min,\n",
    "                                        temp_max)\n",
    "    '''\n",
    "    # calculate day of the year\n",
    "    day_of_year = datetime.date(year,month,day).timetuple().tm_yday\n",
    "    \n",
    "    # pre-calculus data for estimating solar radiation from temperatures \n",
    "    # latitude conversion from degrees to radians\n",
    "    latitude_rad = pyeto.deg2rad(latitude)\n",
    "\n",
    "    # longitude conversion from degrees to radians\n",
    "    longitude_rad = pyeto.deg2rad(longitude)\n",
    "\n",
    "    # calculate solar declination from day of the year\n",
    "    sol_dec = pyeto.sol_dec(day_of_year)\n",
    "\n",
    "    # calculate sunset hour angle (Ws) from latitude and solar declination\n",
    "    sha = pyeto.sunset_hour_angle(latitude_rad, sol_dec)\n",
    "\n",
    "    # calculate the inverse relative distance between earth and sun from day of the year.\n",
    "    ird = pyeto.inv_rel_dist_earth_sun(day_of_year)\n",
    "\n",
    "    # estimate daily extraterrestrial radiation (Ra, ‘top of the atmosphere radiation’).\n",
    "    et_rad = pyeto.et_rad(latitude_rad, sol_dec, sha, ird)\n",
    "\n",
    "    # estimate clear sky radiation from altitude and extraterrestrial radiation\n",
    "    cs_rad = pyeto.cs_rad(altitude, et_rad)\n",
    "    \n",
    "    # Estimate incoming solar (or shortwave) radiation, Rs, \n",
    "    # (radiation hitting a horizontal plane after scattering by the atmosphere) \n",
    "    # from min and max temperature together with an empirical adjustment coefficient for ‘interior’ and ‘coastal’ \n",
    "    # regions.\n",
    "    sol_rad_from_t = pyeto.sol_rad_from_t(et_rad, cs_rad, temp_min, temp_max, coastal)\n",
    "    print(\"sol_rad_from_t = %s \" % sol_rad_from_t)\n",
    "    # Solar Radiation Equivalence -> 1 W m-2 = 0.0864 MJ m-2 day-1\n",
    "    watts_meter_2 = sol_rad_from_t / 0.0864\n",
    "    \n",
    "    print(\"solar radiation calculated from temperatures = %s MJ m-2 day-1\" % sol_rad_from_t)\n",
    "    print(\"solar radiation calculated from temperatures = %s W m-2\" % watts_meter_2)\n",
    "    \n",
    "    return watts_meter_2\n"
   ]
  }
 ],
 "metadata": {
  "kernelspec": {
   "display_name": "Python 3",
   "language": "python",
   "name": "python3"
  },
  "language_info": {
   "codemirror_mode": {
    "name": "ipython",
    "version": 3
   },
   "file_extension": ".py",
   "mimetype": "text/x-python",
   "name": "python",
   "nbconvert_exporter": "python",
   "pygments_lexer": "ipython3",
   "version": "3.8.5"
  }
 },
 "nbformat": 4,
 "nbformat_minor": 4
}
