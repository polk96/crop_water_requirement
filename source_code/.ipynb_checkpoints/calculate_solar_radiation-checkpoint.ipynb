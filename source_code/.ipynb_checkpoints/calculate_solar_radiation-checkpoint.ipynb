{
 "cells": [
  {
   "cell_type": "markdown",
   "metadata": {},
   "source": [
    "## PREPARACION DE LOS DATOS\n",
    "\n",
    "**Resumen**:\n",
    "En esta sección se presenta un resumen de como calcular radiacion solar a partir de temperatura maxima y minima.\n",
    "Se utilizara la libreria https://pyeto.readthedocs.io/en/latest/index.html para calcular algunas variables requeridas en el calculo de R2 (radiacion solar)\n",
    "\n",
    "Links consultados:\n",
    "\n",
    "https://onlineconversion.vbulletin.net/forum/main-forums/convert-and-calculate/3614-mj-m-2-d-1-conversion-to-wm-2\n",
    "\n",
    "https://acis.alberta.ca/docs/Estimating-solar-radiation-using-daily-max-and-min-temperatures-data-y2014_m06_d13.pdf\n"
   ]
  },
  {
   "cell_type": "code",
   "execution_count": 1,
   "metadata": {},
   "outputs": [],
   "source": [
    "# import pyeto library\n",
    "import pyeto\n",
    "\n",
    "# import datetime\n",
    "import datetime\n",
    "\n",
    "# variable definition\n",
    "\n",
    "# year, month, day\n",
    "year = 2021\n",
    "month = 1\n",
    "day = 25\n",
    "\n",
    "# calculate day of the year\n",
    "day_of_year = datetime.date(year,month,day).timetuple().tm_yday\n",
    "\n",
    "# latitude in degrees\n",
    "latitude = 19.59216667\n",
    "\n",
    "# longitud in degrees\n",
    "longitude = -103.59075\n",
    "\n",
    "# altitude in meters\n",
    "altitude = 1408.99\n",
    "\n",
    "# coastal – True if site is a coastal location, situated on or adjacent to coast of a large land mass \n",
    "# and where air masses are influenced by a nearby water body, \n",
    "# False if interior location where land mass dominates and air masses are not strongly influenced by \n",
    "# a large water body\n",
    "coastal = False\n",
    "\n",
    "# daily minimum temperature [deg C]\n",
    "tmin = 9.7\n",
    "\n",
    "# daily maximum temperature [deg C]\n",
    "tmax = 27.9\n"
   ]
  },
  {
   "cell_type": "code",
   "execution_count": 2,
   "metadata": {},
   "outputs": [],
   "source": [
    "# pre-calculus data for estimating solar radiation from temperatures \n",
    "\n",
    "# latitude conversion from degrees to radians\n",
    "latitude_rad = pyeto.deg2rad(latitude)\n",
    "\n",
    "# longitude conversion from degrees to radians\n",
    "longitude_rad = pyeto.deg2rad(longitude)\n",
    "\n",
    "# calculate solar declination from day of the year\n",
    "sol_dec = pyeto.sol_dec(day_of_year)\n",
    "\n",
    "# calculate sunset hour angle (Ws) from latitude and solar declination\n",
    "sha = pyeto.sunset_hour_angle(latitude_rad, sol_dec)\n",
    "\n",
    "# calculate the inverse relative distance between earth and sun from day of the year.\n",
    "ird = pyeto.inv_rel_dist_earth_sun(day_of_year)\n",
    "\n",
    "# estimate daily extraterrestrial radiation (Ra, ‘top of the atmosphere radiation’).\n",
    "et_rad = pyeto.et_rad(latitude_rad, sol_dec, sha, ird)\n",
    "\n",
    "# estimate clear sky radiation from altitude and extraterrestrial radiation\n",
    "cs_rad = pyeto.cs_rad(altitude, et_rad)"
   ]
  },
  {
   "cell_type": "code",
   "execution_count": 3,
   "metadata": {},
   "outputs": [
    {
     "name": "stdout",
     "output_type": "stream",
     "text": [
      "sol_rad_from_t = 19.116565207043084 \n",
      "solar radiation calculated from temperatures = 19.116565207043084 MJ m-2 day-1\n",
      "solar radiation calculated from temperatures = 221.25654174818385 W m-2\n"
     ]
    }
   ],
   "source": [
    "# Estimate incoming solar (or shortwave) radiation, Rs, \n",
    "# (radiation hitting a horizontal plane after scattering by the atmosphere) \n",
    "# from min and max temperature together with an empirical adjustment coefficient for ‘interior’ and ‘coastal’ \n",
    "# regions.\n",
    "sol_rad_from_t = pyeto.sol_rad_from_t(et_rad, cs_rad, tmin, tmax, coastal)\n",
    "print(\"sol_rad_from_t = %s \" % sol_rad_from_t)\n",
    "\n",
    "# Solar Radiation Equivalence -> 1 W m-2 = 0.0864 MJ m-2 day-1\n",
    "watts_meter_2 = sol_rad_from_t / 0.0864\n",
    "\n",
    "print(\"solar radiation calculated from temperatures = %s MJ m-2 day-1\" % sol_rad_from_t)\n",
    "print(\"solar radiation calculated from temperatures = %s W m-2\" % watts_meter_2)\n"
   ]
  },
  {
   "cell_type": "code",
   "execution_count": 4,
   "metadata": {},
   "outputs": [
    {
     "name": "stdout",
     "output_type": "stream",
     "text": [
      "daylight_hours = 11.051087723194788\n",
      "sol_rad_from_sun_hours = 19.11525675427555 \n",
      "solar radiation calculated from sun hours = 19.11525675427555 MJ m-2 day-1\n",
      "solar radiation calculated from sun hours = 221.24139761892997 W m-2\n"
     ]
    }
   ],
   "source": [
    "# Calculate incoming solar (or shortwave) radiation, \n",
    "# Rs (radiation hitting a horizontal plane after scattering by the atmosphere) \n",
    "# from relative sunshine duration.\n",
    "daylight_hours = pyeto.daylight_hours(sha)\n",
    "print(\"daylight_hours = %s\" % daylight_hours)\n",
    "\n",
    "sunshine_hours = 9.56\n",
    "sol_rad_from_sun_hours = pyeto.sol_rad_from_sun_hours(daylight_hours, sunshine_hours, et_rad)\n",
    "print(\"sol_rad_from_sun_hours = %s \" % sol_rad_from_sun_hours)\n",
    "\n",
    "# Solar Radiation Equivalence -> 1 W m-2 = 0.0864 MJ m-2 day-1\n",
    "watts_meter_2 = sol_rad_from_sun_hours / 0.0864\n",
    "\n",
    "print(\"solar radiation calculated from sun hours = %s MJ m-2 day-1\" %sol_rad_from_sun_hours)\n",
    "print(\"solar radiation calculated from sun hours = %s W m-2\" % watts_meter_2)"
   ]
  }
 ],
 "metadata": {
  "kernelspec": {
   "display_name": "Python 3",
   "language": "python",
   "name": "python3"
  },
  "language_info": {
   "codemirror_mode": {
    "name": "ipython",
    "version": 3
   },
   "file_extension": ".py",
   "mimetype": "text/x-python",
   "name": "python",
   "nbconvert_exporter": "python",
   "pygments_lexer": "ipython3",
   "version": "3.8.5"
  }
 },
 "nbformat": 4,
 "nbformat_minor": 4
}
