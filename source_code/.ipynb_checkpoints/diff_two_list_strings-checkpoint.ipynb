{
 "cells": [
  {
   "cell_type": "code",
   "execution_count": 1,
   "metadata": {},
   "outputs": [],
   "source": [
    "# https://coderzcolumn.com/tutorials/python/difflib-simple-way-to-find-out-differences-between-sequences-file-contents-using-python\n",
    "# import the additional moduleA\n",
    "import difflib\n",
    "\n",
    "# initiate the Differ object\n",
    "d = difflib.Differ()"
   ]
  },
  {
   "cell_type": "code",
   "execution_count": 2,
   "metadata": {},
   "outputs": [
    {
     "name": "stdout",
     "output_type": "stream",
     "text": [
      "  About the IIS\n",
      "  \n",
      "- IIS 8.5 has several improvements related\n",
      "?  ^^^^^^\n",
      "\n",
      "+ It has several improvements related\n",
      "?  ^\n",
      "\n",
      "- to performance in large-scale scenarios, such\n",
      "?                                        ^^^^^^\n",
      "\n",
      "+ to performance in large-scale scenarios.\n",
      "?                                        ^\n",
      "\n",
      "- as those used by commercial hosting providers and Microsoft's\n",
      "- own cloud offerings.\n"
     ]
    }
   ],
   "source": [
    "# taken from: https://en.wikipedia.org/wiki/Internet_Information_Services\n",
    "original = [\"About the IIS\", \"\", \"IIS 8.5 has several improvements related\", \"to performance in large-scale scenarios, such\", \"as those used by commercial hosting providers and Microsoft's\", \"own cloud offerings.\"]\n",
    "\n",
    "# define modified text\n",
    "edited = [\"About the IIS\", \"\", \"It has several improvements related\", \"to performance in large-scale scenarios.\"]\n",
    "\n",
    "# calculate the difference between the two texts\n",
    "diff = d.compare(original, edited)\n",
    " \n",
    "# output the result\n",
    "print ('\\n'.join(diff))"
   ]
  },
  {
   "cell_type": "code",
   "execution_count": 3,
   "metadata": {},
   "outputs": [
    {
     "name": "stdout",
     "output_type": "stream",
     "text": [
      "unnamed: 0\n",
      "termometro seco\n",
      "termometro humedo\n",
      "punto de rocio\n",
      "humedad maxima\n",
      "humedad maxima\n",
      "presion de la estacion\n",
      "maxima presion de la estacion\n",
      "minima presion de la estacion\n",
      "osc\n",
      "presion residual al nivel del mar\n",
      "presion residual al nivel del mar maxima\n",
      "presion residual al nivel del mar minima\n",
      "osc.1\n",
      "aneroide\n",
      "cn\n",
      "ok\n",
      "direcc.\n",
      "dia.1\n",
      "noche\n",
      "direccion dominante\n",
      "velocidad dominante\n",
      "direccion maxima\n",
      "maxima velocidad\n",
      "media velocidad\n",
      "p\n",
      "h\n",
      "p.1\n",
      "evap\n",
      "evaporacion maxima\n",
      "evaporacion minima\n",
      "osc.2\n",
      "velocidad dominante\n",
      "presion de la estacion\n",
      "niebla\n",
      "rocio\n",
      "lluvia \n",
      "helada\n",
      "calima\n",
      "humo\n",
      "halo\n",
      "arco iris\n",
      "chubascos \n",
      "truenos\n",
      "relampagos\n",
      "temp.elec.\n",
      "eficiencia\n"
     ]
    }
   ],
   "source": [
    "# Ejemplo de como vamos a implementar libreria diff para obtener la lista de columnas del dataframe \n",
    "# que vamos a eliminar \n",
    "columns_to_be_extracted = ['dia',\n",
    "                     'tension de vapor',\n",
    "                     'temperatura maxima',\n",
    "                     'temperatura minima',\n",
    "                     'humedad relativa',\n",
    "                     'humedad minima',\n",
    "                     'humedad maxima',\n",
    "                     'inten',\n",
    "                     'velocidad dominante',\n",
    "                     'presion de la estacion']\n",
    "\n",
    "columns_in_dataframe = ['unnamed: 0', 'dia', 'termometro seco', 'termometro humedo',\n",
    "       'tension de vapor', 'temperatura maxima', 'temperatura minima',\n",
    "       'punto de rocio', 'humedad relativa', 'humedad maxima',\n",
    "       'humedad minima', 'presion de la estacion',\n",
    "       'maxima presion de la estacion', 'minima presion de la estacion', 'osc',\n",
    "       'presion residual al nivel del mar',\n",
    "       'presion residual al nivel del mar maxima',\n",
    "       'presion residual al nivel del mar minima', 'osc.1', 'aneroide', 'cn',\n",
    "       'ok', 'direcc.', 'dia.1', 'noche', 'direccion dominante',\n",
    "       'velocidad dominante', 'direccion maxima', 'maxima velocidad',\n",
    "       'media velocidad', 'p', 'h', 'p.1', 'evap', 'evaporacion maxima',\n",
    "       'evaporacion minima', 'osc.2', 'inten', 'niebla', 'rocio', 'lluvia ',\n",
    "       'helada', 'calima', 'humo', 'halo', 'arco iris', 'chubascos ',\n",
    "       'truenos', 'relampagos', 'temp.elec.', 'eficiencia']\n",
    "\n",
    "diff = list(d.compare(columns_to_be_extracted,columns_in_dataframe))\n",
    "columns_to_drop = []\n",
    "\n",
    "for each in diff:\n",
    "    #print(each)\n",
    "    if each.find(' ',0):\n",
    "        #print(\"need to drop\")\n",
    "        sliced = each[2:]\n",
    "        columns_to_drop.append(sliced)\n",
    "for each in columns_to_drop:\n",
    "    print(\"%s\" % each)\n",
    "    "
   ]
  },
  {
   "cell_type": "code",
   "execution_count": null,
   "metadata": {},
   "outputs": [],
   "source": []
  }
 ],
 "metadata": {
  "kernelspec": {
   "display_name": "Python 3",
   "language": "python",
   "name": "python3"
  },
  "language_info": {
   "codemirror_mode": {
    "name": "ipython",
    "version": 3
   },
   "file_extension": ".py",
   "mimetype": "text/x-python",
   "name": "python",
   "nbconvert_exporter": "python",
   "pygments_lexer": "ipython3",
   "version": "3.8.5"
  }
 },
 "nbformat": 4,
 "nbformat_minor": 4
}
