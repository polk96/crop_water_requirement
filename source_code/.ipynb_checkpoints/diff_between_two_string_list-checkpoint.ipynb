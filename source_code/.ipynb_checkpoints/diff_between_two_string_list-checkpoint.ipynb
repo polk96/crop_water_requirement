{
 "cells": [
  {
   "cell_type": "code",
   "execution_count": 10,
   "metadata": {},
   "outputs": [],
   "source": [
    "# Ejemplo Base tomado de \n",
    "# https://www.codegrepper.com/code-examples/python/python+compare+two+lists+for+differences\n",
    "\n",
    "# Creamos dos listas y definimos un contenido para cada una de ellas\n",
    "list1 = ['little','blue','widget','dia']\n",
    "list2 = ['there','is','a','little','blue','cup','on','the','table','dia.1']\n",
    "\n",
    "# A traves de la funcion set realizamo la diferencia\n",
    "# Cada elemento de la lista 1 se buscara dentro de la lista 2 \n",
    "# Si no se encuentra coincidencia alguna esta se guarda como elemento de lista3 del tipo set\n",
    "list3 = set(list1)-set(list2) # we don't need to list3 to actually be a list\n",
    "\n",
    "# Pasamos a formato tipo lista y almacenamos en lista4\n",
    "list4 = sorted(list3, key = lambda k : list1.index(k))"
   ]
  },
  {
   "cell_type": "code",
   "execution_count": 15,
   "metadata": {},
   "outputs": [
    {
     "name": "stdout",
     "output_type": "stream",
     "text": [
      "{'widget', 'dia'}\n"
     ]
    }
   ],
   "source": [
    "# Imprimimos lista4 con el contenido de resultante\n",
    "print(list4)"
   ]
  },
  {
   "cell_type": "code",
   "execution_count": 16,
   "metadata": {},
   "outputs": [],
   "source": [
    "# Realizamos una prueba del principio base anteriormente explicado y buscamos las columnas a ser extraidas\n",
    "# dentro de las columnas proporcionadas por el dataframe\n",
    "columns_to_be_extracted = ['dia',\n",
    "                     'tension de vapor',\n",
    "                     'temperatura maxima',\n",
    "                     'temperatura minima',\n",
    "                     'humedad relativa',\n",
    "                     'humedad minima',\n",
    "                     'humedad maxima',\n",
    "                     'inten',\n",
    "                     'velocidad dominante',\n",
    "                     'presion de la estacion']\n",
    "\n",
    "columns_in_dataframe = ['unnamed: 0', 'dia', 'termometro seco', 'termometro humedo',\n",
    "       'tension de vapor', 'temperatura maxima', 'temperatura minima',\n",
    "       'punto de rocio', 'humedad relativa', 'humedad maxima',\n",
    "       'humedad minima', 'presion de la estacion',\n",
    "       'maxima presion de la estacion', 'minima presion de la estacion', 'osc',\n",
    "       'presion residual al nivel del mar',\n",
    "       'presion residual al nivel del mar maxima',\n",
    "       'presion residual al nivel del mar minima', 'osc.1', 'aneroide', 'cn',\n",
    "       'ok', 'direcc.', 'dia.1', 'noche', 'direccion dominante',\n",
    "       'velocidad dominante', 'direccion maxima', 'maxima velocidad',\n",
    "       'media velocidad', 'p', 'h', 'p.1', 'evap', 'evaporacion maxima',\n",
    "       'evaporacion minima', 'osc.2', 'inten', 'niebla', 'rocio', 'lluvia ',\n",
    "       'helada', 'calima', 'humo', 'halo', 'arco iris', 'chubascos ',\n",
    "       'truenos', 'relampagos', 'temp.elec.', 'eficiencia']\n",
    "\n",
    "list1 = columns_in_dataframe\n",
    "list2 = columns_to_be_extracted\n",
    "\n",
    "list3 = set(list1)-set(list2) # we don't need to list3 to actually be a list\n",
    "list4 = sorted(list3, key = lambda k : list1.index(k))\n"
   ]
  },
  {
   "cell_type": "code",
   "execution_count": 17,
   "metadata": {},
   "outputs": [
    {
     "name": "stdout",
     "output_type": "stream",
     "text": [
      "['unnamed: 0', 'termometro seco', 'termometro humedo', 'punto de rocio', 'maxima presion de la estacion', 'minima presion de la estacion', 'osc', 'presion residual al nivel del mar', 'presion residual al nivel del mar maxima', 'presion residual al nivel del mar minima', 'osc.1', 'aneroide', 'cn', 'ok', 'direcc.', 'dia.1', 'noche', 'direccion dominante', 'direccion maxima', 'maxima velocidad', 'media velocidad', 'p', 'h', 'p.1', 'evap', 'evaporacion maxima', 'evaporacion minima', 'osc.2', 'niebla', 'rocio', 'lluvia ', 'helada', 'calima', 'humo', 'halo', 'arco iris', 'chubascos ', 'truenos', 'relampagos', 'temp.elec.', 'eficiencia']\n"
     ]
    }
   ],
   "source": [
    "# Imprimimos lista4 con el contenido de resultante\n",
    "print(list4)"
   ]
  }
 ],
 "metadata": {
  "kernelspec": {
   "display_name": "Python 3",
   "language": "python",
   "name": "python3"
  },
  "language_info": {
   "codemirror_mode": {
    "name": "ipython",
    "version": 3
   },
   "file_extension": ".py",
   "mimetype": "text/x-python",
   "name": "python",
   "nbconvert_exporter": "python",
   "pygments_lexer": "ipython3",
   "version": "3.8.5"
  }
 },
 "nbformat": 4,
 "nbformat_minor": 4
}
