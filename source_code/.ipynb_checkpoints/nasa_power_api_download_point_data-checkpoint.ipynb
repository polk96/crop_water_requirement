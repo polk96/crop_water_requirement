{
 "cells": [
  {
   "cell_type": "code",
   "execution_count": 1,
   "metadata": {},
   "outputs": [],
   "source": [
    "'''\n",
    "*Version: 1.0 Published: 2020/02/11* Source: [NASA POWER](https://power.larc.nasa.gov/)\n",
    "POWER API Multipoint Download\n",
    "This is an overview of the process to request data from multiple data points from the POWER API.\n",
    "'''\n",
    "\n",
    "import os, json, urllib, requests, webbrowser\n",
    "\n",
    "output = \"CSV\" # JSON, CSV, ASCII, ICASA, NETCDF\n",
    "#locations = [(19.59216667, -103.59075), (5, 10)]\n",
    "locations = [(19.59216667, -103.59075)]\n",
    "\n",
    "# https://cran.r-project.org/web/packages/nasapower/nasapower.pdf\n",
    "# Document where you can find all acronyms definition for different variables \n",
    "# and Arguments needed in url request\n",
    "parameters = \"T2M_MAX,T2M_MIN,RH2M,RH2M,ALLSKY_SFC_SW_DWN\"\n",
    "community = \"AG\"\n",
    "startDate = \"20200120\"\n",
    "endDate = \"20200120\"\n",
    "\n",
    "output_folder = r'' # if r'' the location of the script is where the files will be outputted.\n",
    "#base_url = r\"https://power.larc.nasa.gov/cgi-bin/v1/DataAccess.py?request=execute&identifier=SinglePoint&tempAverage=DAILY&parameters=T2M_MAX,T2M_MIN,RH2M,RH2M,ALLSKY_SFC_SW_DWN&startDate=20210125&endDate=20210125&lat={latitude}&lon={longitude}&outputList={output}&userCommunity=SSE\"\n",
    "base_url = r\"https://power.larc.nasa.gov/cgi-bin/v1/DataAccess.py?request=execute&identifier=SinglePoint&tempAverage=DAILY&parameters={parameters}&startDate={startDate}&endDate={endDate}&lat={latitude}&lon={longitude}&outputList={output}&userCommunity={community}\"\n",
    "\n",
    "\n",
    "for latitude, longitude in locations:\n",
    "    api_request_url = base_url.format(startDate=startDate, endDate=endDate, longitude=longitude, latitude=latitude, parameters=parameters, community=community, output=output.upper())\n",
    "\n",
    "    # Python Memory Object\n",
    "    json_response = json.loads(requests.get(api_request_url).content.decode('utf-8'))\n",
    "\n",
    "    # Selects the file URL from the JSON response\n",
    "    csv_request_url = json_response['outputs'][output.lower()]\n",
    "\n",
    "    # Download File to Folder\n",
    "    output_file_location = os.path.join(output_folder, os.path.basename(csv_request_url))\n",
    "    output_file_location = \"../datos/nasa_power/\"+output_file_location\n",
    "    urllib.request.urlretrieve(csv_request_url, output_file_location)\n"
   ]
  }
 ],
 "metadata": {
  "kernelspec": {
   "display_name": "Python 3",
   "language": "python",
   "name": "python3"
  },
  "language_info": {
   "codemirror_mode": {
    "name": "ipython",
    "version": 3
   },
   "file_extension": ".py",
   "mimetype": "text/x-python",
   "name": "python",
   "nbconvert_exporter": "python",
   "pygments_lexer": "ipython3",
   "version": "3.8.5"
  }
 },
 "nbformat": 4,
 "nbformat_minor": 4
}
