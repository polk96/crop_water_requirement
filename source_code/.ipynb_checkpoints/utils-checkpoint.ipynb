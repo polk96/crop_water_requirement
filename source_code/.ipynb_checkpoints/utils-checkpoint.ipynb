{
 "cells": [
  {
   "cell_type": "code",
   "execution_count": null,
   "metadata": {},
   "outputs": [],
   "source": [
    "# Esta funcion permite generar un archivo con la informacion del dataframe\n",
    "def dataframe_info_txt(df):\n",
    "    buffer = io.StringIO()\n",
    "    df.info(buf=buffer)\n",
    "    s = buffer.getvalue()\n",
    "    with open(\"../output/data_info.txt\", \"w\",\n",
    "              encoding=\"utf-8\") as f:  \n",
    "        f.write(s)"
   ]
  },
  {
   "cell_type": "code",
   "execution_count": null,
   "metadata": {},
   "outputs": [],
   "source": [
    "# Funcion para regresar el numero del mes de acuerdo al nombre del mes\n",
    "def month_converter(mes):\n",
    "    mes_lista = ['ENERO','FEBRERO','MARZO','ABRIL','MAYO','JUNIO','JULIO','AGOSTO','SEPTIEMBRE','OCTUBRE','NOVIEMBRE','DICIEMBRE']\n",
    "    return mes_lista.index(mes) + 1"
   ]
  }
 ],
 "metadata": {
  "kernelspec": {
   "display_name": "Python 3",
   "language": "python",
   "name": "python3"
  },
  "language_info": {
   "codemirror_mode": {
    "name": "ipython",
    "version": 3
   },
   "file_extension": ".py",
   "mimetype": "text/x-python",
   "name": "python",
   "nbconvert_exporter": "python",
   "pygments_lexer": "ipython3",
   "version": "3.8.5"
  }
 },
 "nbformat": 4,
 "nbformat_minor": 4
}
